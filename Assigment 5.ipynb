{
 "cells": [
  {
   "cell_type": "markdown",
   "id": "cb8a56ac",
   "metadata": {},
   "source": [
    "### Question 1"
   ]
  },
  {
   "cell_type": "code",
   "execution_count": null,
   "id": "4cec21ea",
   "metadata": {},
   "outputs": [],
   "source": [
    "Python is an object oriented programming language. Almost everything in Python is an object, with its properties and methods. A Class is like an object constructor, or a \"blueprint\" for creating objects.\n",
    "\n",
    "An object is called an instance of a class. For example, suppose Bike is a class then we can create objects like bike1 , bike2 , etc from the class. Here's the syntax to create an object. Here, bike1 is the object of the class.\n",
    "\n"
   ]
  },
  {
   "cell_type": "code",
   "execution_count": 2,
   "id": "f2d4213a",
   "metadata": {},
   "outputs": [
    {
     "name": "stdout",
     "output_type": "stream",
     "text": [
      "Hello, my name is Nikhil\n"
     ]
    }
   ],
   "source": [
    "class Person:\n",
    " \n",
    "    # init method or constructor\n",
    "    def __init__(self, name):\n",
    "        self.name = name\n",
    " \n",
    "    # Sample Method\n",
    "    def say_hi(self):\n",
    "        print('Hello, my name is', self.name)\n",
    " \n",
    " \n",
    "p = Person('Nikhil')\n",
    "p.say_hi()\n"
   ]
  },
  {
   "cell_type": "markdown",
   "id": "7356e26c",
   "metadata": {},
   "source": [
    "### Question 2"
   ]
  },
  {
   "cell_type": "code",
   "execution_count": null,
   "id": "8c80618e",
   "metadata": {},
   "outputs": [],
   "source": [
    "These are main four pillars in python:\n",
    "1.Abstraction.\n",
    "2.Inheritance.\n",
    "3.Polymorphism.\n",
    "4.Encapsulation."
   ]
  },
  {
   "cell_type": "markdown",
   "id": "03f1ed8f",
   "metadata": {},
   "source": [
    "### Question 3"
   ]
  },
  {
   "cell_type": "code",
   "execution_count": null,
   "id": "ed509cce",
   "metadata": {},
   "outputs": [],
   "source": [
    "The __init__() function is called automatically every time the class is being used to create a new object.\n",
    "It is also called constructor.\n"
   ]
  },
  {
   "cell_type": "code",
   "execution_count": 4,
   "id": "70ad516d",
   "metadata": {},
   "outputs": [
    {
     "name": "stdout",
     "output_type": "stream",
     "text": [
      "John\n",
      "36\n"
     ]
    }
   ],
   "source": [
    "class Person:\n",
    "  def __init__(self, name, age):\n",
    "    self.name = name\n",
    "    self.age = age\n",
    "\n",
    "p1 = Person(\"John\", 36)\n",
    "\n",
    "print(p1.name)\n",
    "print(p1.age)"
   ]
  },
  {
   "cell_type": "markdown",
   "id": "cdb2dbd7",
   "metadata": {},
   "source": [
    "### Question 4"
   ]
  },
  {
   "cell_type": "code",
   "execution_count": null,
   "id": "f148febe",
   "metadata": {},
   "outputs": [],
   "source": [
    "self represents the instance of the class. By using the “self”  we can access the attributes and methods of the class in python. \n",
    "It binds the attributes with the given arguments.\n",
    "\n"
   ]
  },
  {
   "cell_type": "markdown",
   "id": "4ada8582",
   "metadata": {},
   "source": [
    "### Question 5"
   ]
  },
  {
   "cell_type": "code",
   "execution_count": null,
   "id": "43d2a628",
   "metadata": {},
   "outputs": [],
   "source": [
    "Python is an Object-Oriented Programming language and one of the features of Object-Oriented Programming is Inheritance.\n",
    "Inheritance is the ability of one class to inherit another class. \n",
    "Inheritance provides reusability of code and allows us to create complex and real-world-like relationships among objects.\n",
    "\n",
    "There are four types of inheritance in python:"
   ]
  },
  {
   "cell_type": "code",
   "execution_count": 6,
   "id": "15490e1f",
   "metadata": {},
   "outputs": [
    {
     "name": "stdout",
     "output_type": "stream",
     "text": [
      "John is a Professor\n"
     ]
    }
   ],
   "source": [
    "# 1.Single inheritance\n",
    "#Example:\n",
    "class Person:\n",
    "\n",
    "    def __init__(self, name, age):\n",
    "        self.name = name\n",
    "        self.age = age\n",
    "\n",
    "class Professor(Person):\n",
    "\n",
    "    def isProfessor(self):\n",
    "        return f\"{self.name} is a Professor\"\n",
    "\n",
    "sir = Professor(\"John\", 30)\n",
    "\n",
    "print(sir.isProfessor())\n"
   ]
  },
  {
   "cell_type": "code",
   "execution_count": 7,
   "id": "aec90ddf",
   "metadata": {},
   "outputs": [
    {
     "name": "stdout",
     "output_type": "stream",
     "text": [
      "8\n"
     ]
    }
   ],
   "source": [
    "# 2.Multiple inheritance\n",
    "\n",
    "\n",
    "class SuperClass1:\n",
    "    num1 = 3\n",
    "\n",
    "class SuperClass2:\n",
    "    num2 = 5\n",
    "\n",
    "class SubClass( SuperClass1, SuperClass2):\n",
    "    def addition(self):\n",
    "        return self.num1 + self.num2\n",
    "\n",
    "obj = SubClass()\n",
    "print(obj.addition()) "
   ]
  },
  {
   "cell_type": "code",
   "execution_count": 8,
   "id": "2d89ad64",
   "metadata": {},
   "outputs": [
    {
     "name": "stdout",
     "output_type": "stream",
     "text": [
      "PythonGeeks\n"
     ]
    }
   ],
   "source": [
    "\n",
    "# 3.Multilevel inheritance\n",
    "\n",
    "class Parent:\n",
    "    str1 = \"Python\"\n",
    "\n",
    "class Child(Parent):\n",
    "    str2 = \"Geeks\"\n",
    "\n",
    "class GrandChild(Child):\n",
    "\n",
    "    def get_str(self):\n",
    "        print(self.str1 + self.str2)\n",
    "\n",
    "person = GrandChild()\n",
    "person.get_str()"
   ]
  },
  {
   "cell_type": "code",
   "execution_count": 9,
   "id": "f5869a64",
   "metadata": {},
   "outputs": [
    {
     "name": "stdout",
     "output_type": "stream",
     "text": [
      "3 3 3\n"
     ]
    }
   ],
   "source": [
    "# 4.Hierarchical inheritance\n",
    "\n",
    "class SuperClass:\n",
    "    x = 3\n",
    "class SubClass1(SuperClass):\n",
    "    pass\n",
    "class SubClass2(SuperClass):\n",
    "    pass\n",
    "class SubClass3(SuperClass):\n",
    "    pass\n",
    "a = SubClass1()\n",
    "b = SubClass2()\n",
    "c = SubClass3()\n",
    "print(a.x, b.x, c.x)"
   ]
  },
  {
   "cell_type": "code",
   "execution_count": null,
   "id": "9c7de8b5",
   "metadata": {},
   "outputs": [],
   "source": []
  }
 ],
 "metadata": {
  "kernelspec": {
   "display_name": "Python 3 (ipykernel)",
   "language": "python",
   "name": "python3"
  },
  "language_info": {
   "codemirror_mode": {
    "name": "ipython",
    "version": 3
   },
   "file_extension": ".py",
   "mimetype": "text/x-python",
   "name": "python",
   "nbconvert_exporter": "python",
   "pygments_lexer": "ipython3",
   "version": "3.9.13"
  }
 },
 "nbformat": 4,
 "nbformat_minor": 5
}
